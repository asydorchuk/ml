{
 "cells": [
  {
   "cell_type": "code",
   "execution_count": 158,
   "metadata": {
    "collapsed": true
   },
   "outputs": [],
   "source": [
    "import numpy as np\n",
    "import pandas as pd\n",
    "import seaborn as sns\n",
    "import matplotlib.pyplot as plt\n",
    "\n",
    "%matplotlib inline"
   ]
  },
  {
   "cell_type": "code",
   "execution_count": 159,
   "metadata": {
    "collapsed": true
   },
   "outputs": [],
   "source": [
    "aisles = pd.read_csv('data/aisles.csv', index_col='aisle_id').to_dict()['aisle']\n",
    "depart = pd.read_csv('data/departments.csv', index_col='department_id').to_dict()['department']\n",
    "products_df = pd.read_csv('data/products.csv', index_col='product_id')\n",
    "products_df['aisle'] = products_df.aisle_id.map(lambda x: aisles[x])\n",
    "products_df['department'] = products_df.department_id.map(lambda x: depart[x])\n",
    "products_df.drop(['aisle_id', 'department_id'], axis=1, inplace=True)"
   ]
  },
  {
   "cell_type": "code",
   "execution_count": 160,
   "metadata": {
    "collapsed": true
   },
   "outputs": [],
   "source": [
    "prior_df = pd.read_csv('data/order_products__prior.csv', index_col='order_id')\n",
    "train_df = pd.read_csv('data/order_products__train.csv', index_col='order_id')\n",
    "orders_df = pd.read_csv('data/orders.csv', index_col='order_id')"
   ]
  },
  {
   "cell_type": "code",
   "execution_count": 161,
   "metadata": {
    "collapsed": false
   },
   "outputs": [
    {
     "data": {
      "text/html": [
       "<div>\n",
       "<table border=\"1\" class=\"dataframe\">\n",
       "  <thead>\n",
       "    <tr style=\"text-align: right;\">\n",
       "      <th></th>\n",
       "      <th>product_name</th>\n",
       "      <th>aisle</th>\n",
       "      <th>department</th>\n",
       "    </tr>\n",
       "    <tr>\n",
       "      <th>product_id</th>\n",
       "      <th></th>\n",
       "      <th></th>\n",
       "      <th></th>\n",
       "    </tr>\n",
       "  </thead>\n",
       "  <tbody>\n",
       "    <tr>\n",
       "      <th>1</th>\n",
       "      <td>Chocolate Sandwich Cookies</td>\n",
       "      <td>cookies cakes</td>\n",
       "      <td>snacks</td>\n",
       "    </tr>\n",
       "    <tr>\n",
       "      <th>2</th>\n",
       "      <td>All-Seasons Salt</td>\n",
       "      <td>spices seasonings</td>\n",
       "      <td>pantry</td>\n",
       "    </tr>\n",
       "    <tr>\n",
       "      <th>3</th>\n",
       "      <td>Robust Golden Unsweetened Oolong Tea</td>\n",
       "      <td>tea</td>\n",
       "      <td>beverages</td>\n",
       "    </tr>\n",
       "    <tr>\n",
       "      <th>4</th>\n",
       "      <td>Smart Ones Classic Favorites Mini Rigatoni Wit...</td>\n",
       "      <td>frozen meals</td>\n",
       "      <td>frozen</td>\n",
       "    </tr>\n",
       "    <tr>\n",
       "      <th>5</th>\n",
       "      <td>Green Chile Anytime Sauce</td>\n",
       "      <td>marinades meat preparation</td>\n",
       "      <td>pantry</td>\n",
       "    </tr>\n",
       "  </tbody>\n",
       "</table>\n",
       "</div>"
      ],
      "text/plain": [
       "                                                 product_name  \\\n",
       "product_id                                                      \n",
       "1                                  Chocolate Sandwich Cookies   \n",
       "2                                            All-Seasons Salt   \n",
       "3                        Robust Golden Unsweetened Oolong Tea   \n",
       "4           Smart Ones Classic Favorites Mini Rigatoni Wit...   \n",
       "5                                   Green Chile Anytime Sauce   \n",
       "\n",
       "                                 aisle department  \n",
       "product_id                                         \n",
       "1                        cookies cakes     snacks  \n",
       "2                    spices seasonings     pantry  \n",
       "3                                  tea  beverages  \n",
       "4                         frozen meals     frozen  \n",
       "5           marinades meat preparation     pantry  "
      ]
     },
     "execution_count": 161,
     "metadata": {},
     "output_type": "execute_result"
    }
   ],
   "source": [
    "products_df.head()"
   ]
  },
  {
   "cell_type": "code",
   "execution_count": 162,
   "metadata": {
    "collapsed": false
   },
   "outputs": [
    {
     "data": {
      "text/html": [
       "<div>\n",
       "<table border=\"1\" class=\"dataframe\">\n",
       "  <thead>\n",
       "    <tr style=\"text-align: right;\">\n",
       "      <th></th>\n",
       "      <th>product_id</th>\n",
       "      <th>add_to_cart_order</th>\n",
       "      <th>reordered</th>\n",
       "    </tr>\n",
       "    <tr>\n",
       "      <th>order_id</th>\n",
       "      <th></th>\n",
       "      <th></th>\n",
       "      <th></th>\n",
       "    </tr>\n",
       "  </thead>\n",
       "  <tbody>\n",
       "    <tr>\n",
       "      <th>2</th>\n",
       "      <td>33120</td>\n",
       "      <td>1</td>\n",
       "      <td>1</td>\n",
       "    </tr>\n",
       "    <tr>\n",
       "      <th>2</th>\n",
       "      <td>28985</td>\n",
       "      <td>2</td>\n",
       "      <td>1</td>\n",
       "    </tr>\n",
       "    <tr>\n",
       "      <th>2</th>\n",
       "      <td>9327</td>\n",
       "      <td>3</td>\n",
       "      <td>0</td>\n",
       "    </tr>\n",
       "    <tr>\n",
       "      <th>2</th>\n",
       "      <td>45918</td>\n",
       "      <td>4</td>\n",
       "      <td>1</td>\n",
       "    </tr>\n",
       "    <tr>\n",
       "      <th>2</th>\n",
       "      <td>30035</td>\n",
       "      <td>5</td>\n",
       "      <td>0</td>\n",
       "    </tr>\n",
       "  </tbody>\n",
       "</table>\n",
       "</div>"
      ],
      "text/plain": [
       "          product_id  add_to_cart_order  reordered\n",
       "order_id                                          \n",
       "2              33120                  1          1\n",
       "2              28985                  2          1\n",
       "2               9327                  3          0\n",
       "2              45918                  4          1\n",
       "2              30035                  5          0"
      ]
     },
     "execution_count": 162,
     "metadata": {},
     "output_type": "execute_result"
    }
   ],
   "source": [
    "prior_df.head()"
   ]
  },
  {
   "cell_type": "code",
   "execution_count": 163,
   "metadata": {
    "collapsed": false
   },
   "outputs": [
    {
     "data": {
      "text/html": [
       "<div>\n",
       "<table border=\"1\" class=\"dataframe\">\n",
       "  <thead>\n",
       "    <tr style=\"text-align: right;\">\n",
       "      <th></th>\n",
       "      <th>user_id</th>\n",
       "      <th>eval_set</th>\n",
       "      <th>order_number</th>\n",
       "      <th>order_dow</th>\n",
       "      <th>order_hour_of_day</th>\n",
       "      <th>days_since_prior_order</th>\n",
       "    </tr>\n",
       "    <tr>\n",
       "      <th>order_id</th>\n",
       "      <th></th>\n",
       "      <th></th>\n",
       "      <th></th>\n",
       "      <th></th>\n",
       "      <th></th>\n",
       "      <th></th>\n",
       "    </tr>\n",
       "  </thead>\n",
       "  <tbody>\n",
       "    <tr>\n",
       "      <th>2539329</th>\n",
       "      <td>1</td>\n",
       "      <td>prior</td>\n",
       "      <td>1</td>\n",
       "      <td>2</td>\n",
       "      <td>8</td>\n",
       "      <td>NaN</td>\n",
       "    </tr>\n",
       "    <tr>\n",
       "      <th>2398795</th>\n",
       "      <td>1</td>\n",
       "      <td>prior</td>\n",
       "      <td>2</td>\n",
       "      <td>3</td>\n",
       "      <td>7</td>\n",
       "      <td>15.0</td>\n",
       "    </tr>\n",
       "    <tr>\n",
       "      <th>473747</th>\n",
       "      <td>1</td>\n",
       "      <td>prior</td>\n",
       "      <td>3</td>\n",
       "      <td>3</td>\n",
       "      <td>12</td>\n",
       "      <td>21.0</td>\n",
       "    </tr>\n",
       "    <tr>\n",
       "      <th>2254736</th>\n",
       "      <td>1</td>\n",
       "      <td>prior</td>\n",
       "      <td>4</td>\n",
       "      <td>4</td>\n",
       "      <td>7</td>\n",
       "      <td>29.0</td>\n",
       "    </tr>\n",
       "    <tr>\n",
       "      <th>431534</th>\n",
       "      <td>1</td>\n",
       "      <td>prior</td>\n",
       "      <td>5</td>\n",
       "      <td>4</td>\n",
       "      <td>15</td>\n",
       "      <td>28.0</td>\n",
       "    </tr>\n",
       "  </tbody>\n",
       "</table>\n",
       "</div>"
      ],
      "text/plain": [
       "          user_id eval_set  order_number  order_dow  order_hour_of_day  \\\n",
       "order_id                                                                 \n",
       "2539329         1    prior             1          2                  8   \n",
       "2398795         1    prior             2          3                  7   \n",
       "473747          1    prior             3          3                 12   \n",
       "2254736         1    prior             4          4                  7   \n",
       "431534          1    prior             5          4                 15   \n",
       "\n",
       "          days_since_prior_order  \n",
       "order_id                          \n",
       "2539329                      NaN  \n",
       "2398795                     15.0  \n",
       "473747                      21.0  \n",
       "2254736                     29.0  \n",
       "431534                      28.0  "
      ]
     },
     "execution_count": 163,
     "metadata": {},
     "output_type": "execute_result"
    }
   ],
   "source": [
    "orders_df.head()"
   ]
  },
  {
   "cell_type": "code",
   "execution_count": 235,
   "metadata": {
    "collapsed": false
   },
   "outputs": [],
   "source": [
    "def get_order_to_products(df):\n",
    "    tmp = df.product_id * df.reordered\n",
    "    return tmp.groupby(tmp.index).aggregate({'products': lambda x: tuple(e for e in x if e > 0)})\n",
    "\n",
    "def get_user_to_last_order(orders_df):\n",
    "    return orders_df[orders_df.eval_set=='prior'].reset_index().groupby('user_id').last()['order_id'].to_frame()\n",
    "\n",
    "def calc_f1_score(exp, act):\n",
    "    exp = set(exp)\n",
    "    act = set(act)\n",
    "    com = exp & act\n",
    "    p = 1.0 * len(com) / len(act) if act else 1.0\n",
    "    r = 1.0 * len(com) / len(exp) if exp else 1.0\n",
    "    return 2.0 * p * r / (p + r) if (p + r) > 0 else 0.0\n",
    "\n",
    "def get_score(expected, actual):\n",
    "    score_df = pd.merge(\n",
    "        expected, actual,\n",
    "        left_index=True, right_index=True,\n",
    "        suffixes=['_exp', '_act']\n",
    "    )\n",
    "    scores = score_df.apply(lambda x: calc_f1_score(x.get('products_exp'), x.get('products_act')), axis=1)   \n",
    "    return scores.mean() "
   ]
  },
  {
   "cell_type": "code",
   "execution_count": 226,
   "metadata": {
    "collapsed": false
   },
   "outputs": [],
   "source": [
    "# Expensive computations.\n",
    "order_to_products = get_order_to_products(prior_df)"
   ]
  },
  {
   "cell_type": "code",
   "execution_count": 236,
   "metadata": {
    "collapsed": false
   },
   "outputs": [
    {
     "name": "stdout",
     "output_type": "stream",
     "text": [
      "Solution 1 train validation score: 0.32558651711\n"
     ]
    }
   ],
   "source": [
    "def solution_1(order_to_products, prior_df, orders_df, label):\n",
    "    \"\"\"Make the same basket prediction as the last purchase of a user.\"\"\"\n",
    "    user_to_last_order = get_user_to_last_order(orders_df)\n",
    "    user_to_last_products = pd.merge(\n",
    "        user_to_last_order, order_to_products,\n",
    "        left_on='order_id', right_index=True, how='inner'\n",
    "    )\n",
    "    \n",
    "    predict_df = orders_df[orders_df.eval_set==label]['user_id'].to_frame()\n",
    "    predictions = pd.merge(\n",
    "        predict_df, user_to_last_products,\n",
    "        left_on='user_id', right_index=True, how='inner'\n",
    "    )\n",
    "    return predictions['products'].to_frame()\n",
    "\n",
    "train_actual = solution_1(order_to_products, prior_df, orders_df, 'train')\n",
    "train_expected = get_order_to_products(train_df)\n",
    "print('Solution 1 train validation score: {}'.format(get_score(train_expected, train_actual)))\n",
    "\n",
    "test_actual = solution_1(order_to_products, prior_df, orders_df, 'test')\n",
    "test_actual = test_actual.products.apply(lambda t: ' '.join(str(e) for e in t) if t else 'None').to_frame()\n",
    "test_actual.to_csv(\"test_output.csv\")"
   ]
  },
  {
   "cell_type": "code",
   "execution_count": null,
   "metadata": {
    "collapsed": true
   },
   "outputs": [],
   "source": []
  }
 ],
 "metadata": {
  "kernelspec": {
   "display_name": "Python 2",
   "language": "python",
   "name": "python2"
  },
  "language_info": {
   "codemirror_mode": {
    "name": "ipython",
    "version": 2
   },
   "file_extension": ".py",
   "mimetype": "text/x-python",
   "name": "python",
   "nbconvert_exporter": "python",
   "pygments_lexer": "ipython2",
   "version": "2.7.12"
  }
 },
 "nbformat": 4,
 "nbformat_minor": 2
}
