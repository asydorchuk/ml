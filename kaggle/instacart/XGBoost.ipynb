{
 "cells": [
  {
   "cell_type": "code",
   "execution_count": null,
   "metadata": {
    "collapsed": false
   },
   "outputs": [],
   "source": [
    "import numpy as np\n",
    "import pandas as pd\n",
    "import seaborn as sns\n",
    "import matplotlib.pyplot as plt\n",
    "\n",
    "import xgboost\n",
    "\n",
    "%matplotlib inline\n",
    "pd.options.display.max_columns = 100"
   ]
  },
  {
   "cell_type": "code",
   "execution_count": null,
   "metadata": {
    "collapsed": true
   },
   "outputs": [],
   "source": [
    "aisles = pd.read_csv('data/aisles.csv', index_col='aisle_id').to_dict()['aisle']\n",
    "depart = pd.read_csv('data/departments.csv', index_col='department_id').to_dict()['department']\n",
    "products_df = pd.read_csv('data/products.csv', index_col='product_id')\n",
    "products_df['aisle'] = products_df.aisle_id.map(lambda x: aisles[x])\n",
    "products_df['department'] = products_df.department_id.map(lambda x: depart[x])\n",
    "products_df.drop(['aisle_id', 'department_id'], axis=1, inplace=True)"
   ]
  },
  {
   "cell_type": "code",
   "execution_count": null,
   "metadata": {
    "collapsed": true
   },
   "outputs": [],
   "source": [
    "prior_df = pd.read_csv('data/order_products__prior.csv')\n",
    "train_df = pd.read_csv('data/order_products__train.csv')\n",
    "orders_df = pd.read_csv('data/orders.csv')"
   ]
  },
  {
   "cell_type": "code",
   "execution_count": null,
   "metadata": {
    "collapsed": false
   },
   "outputs": [],
   "source": [
    "order_products = pd.merge(orders_df, prior_df, left_on='order_id', right_on='order_id').sort_values(['user_id', 'order_number', 'add_to_cart_order'])\n",
    "order_products['product_time'] = order_products[['user_id', 'order_number', 'product_id']].groupby(['user_id', 'product_id']).cumcount() + 1"
   ]
  },
  {
   "cell_type": "code",
   "execution_count": null,
   "metadata": {
    "collapsed": false
   },
   "outputs": [],
   "source": [
    "order_products.head(20)"
   ]
  },
  {
   "cell_type": "code",
   "execution_count": null,
   "metadata": {
    "collapsed": false
   },
   "outputs": [],
   "source": [
    "tmp = order_products[['product_id', 'product_time']]\n",
    "product_stats = pd.DataFrame(index=sorted(tmp.product_id.unique()))\n",
    "product_stats['prod_orders'] = tmp.groupby('product_id').count()\n",
    "product_stats['prod_reorders'] = tmp[tmp.product_time>1].groupby('product_id').count()\n",
    "product_stats['prod_1st_orders'] = tmp[tmp.product_time==1].groupby('product_id').count()\n",
    "product_stats['prod_2nd_orders'] = tmp[tmp.product_time==2].groupby('product_id').count()\n",
    "product_stats = product_stats.fillna(0)\n",
    "\n",
    "product_stats['prod_reorder_probability'] = product_stats.prod_2nd_orders / product_stats.prod_1st_orders\n",
    "product_stats['prod_reorder_times'] = 1 + product_stats.prod_reorders / product_stats.prod_1st_orders\n",
    "product_stats['prod_reorder_ratio'] = product_stats.prod_reorders / product_stats.prod_orders\n",
    "product_stats = product_stats.drop(['prod_reorders', 'prod_1st_orders', 'prod_2nd_orders', ], axis=1)\n",
    "product_stats.head()"
   ]
  },
  {
   "cell_type": "code",
   "execution_count": null,
   "metadata": {
    "collapsed": false
   },
   "outputs": [],
   "source": [
    "tmp = orders_df[orders_df.eval_set == 'prior'].groupby('user_id')\n",
    "user_stats_1 = pd.DataFrame(index=sorted(orders_df.user_id.unique()))\n",
    "user_stats_1['user_orders'] = tmp['order_number'].max()\n",
    "user_stats_1['user_period'] = tmp['days_since_prior_order'].sum()\n",
    "user_stats_1['user_mean_days_since_prior'] = tmp['days_since_prior_order'].mean()\n",
    "\n",
    "user_stats_2 = pd.DataFrame(index=sorted(orders_df.user_id.unique()))\n",
    "user_stats_2['user_total_products'] = order_products.groupby('user_id').size()\n",
    "user_stats_2['user_reorders'] = order_products[order_products.reordered==1].groupby('user_id').size()\n",
    "user_stats_2['user_not_first_product_orders'] = order_products[order_products.order_number > 1].groupby('user_id').size()\n",
    "user_stats_2['user_reorder_ratio'] = 1.0 * user_stats_2.user_reorders / user_stats_2.user_not_first_product_orders\n",
    "user_stats_2['user_distinct_products'] = order_products.groupby('user_id')['product_id'].nunique()\n",
    "user_stats_2 = user_stats_2.fillna(0).drop(['user_reorders', 'user_not_first_product_orders'], axis=1)\n",
    "\n",
    "user_stats = pd.merge(user_stats_1, user_stats_2, left_index=True, right_index=True)\n",
    "user_stats['user_average_basket'] = user_stats.user_total_products / user_stats.user_orders\n",
    "\n",
    "user_stats_3 = orders_df[orders_df.eval_set != 'prior'][['user_id', 'order_id', 'eval_set', 'days_since_prior_order']].set_index('user_id')\n",
    "user_stats = pd.merge(user_stats, user_stats_3, left_index=True, right_index=True)\n",
    "\n",
    "user_stats.head()"
   ]
  },
  {
   "cell_type": "code",
   "execution_count": null,
   "metadata": {
    "collapsed": false
   },
   "outputs": [],
   "source": [
    "tmp = order_products[['user_id', 'product_id', 'order_number', 'add_to_cart_order']].groupby(['user_id', 'product_id'])\n",
    "up_stats = tmp.size().to_frame('up_orders')\n",
    "up_stats['up_first_order'] = tmp.order_number.min()\n",
    "up_stats['up_last_order'] = tmp.order_number.max()\n",
    "up_stats['up_average_cart_position'] = tmp.add_to_cart_order.mean()\n",
    "up_stats = up_stats.reset_index()\n",
    "\n",
    "up_stats = pd.merge(up_stats, product_stats, left_on='product_id', right_index=True)\n",
    "up_stats = pd.merge(up_stats, user_stats, left_on='user_id', right_index=True)\n",
    "up_stats['up_order_rate'] = up_stats.up_orders / up_stats.user_orders\n",
    "up_stats['up_orders_since_last_order'] = up_stats.user_orders - up_stats.up_last_order\n",
    "up_stats['up_order_rate_since_first_order'] = up_stats.up_orders / (up_stats.user_orders - up_stats.up_first_order + 1)\n",
    "up_stats = pd.merge(\n",
    "    up_stats, train_df[['order_id', 'product_id', 'reordered']],\n",
    "    how='left', left_on=('order_id', 'product_id'), right_on=('order_id', 'product_id'))\n",
    "up_stats.head()"
   ]
  },
  {
   "cell_type": "code",
   "execution_count": null,
   "metadata": {
    "collapsed": false
   },
   "outputs": [],
   "source": [
    "train = up_stats[up_stats.eval_set=='train']\n",
    "train.loc[:, 'reordered'] = train.reordered.fillna(0)\n",
    "train = train.drop(['eval_set', 'user_id', 'product_id', 'order_id'], axis=1)\n",
    "\n",
    "test = up_stats[up_stats.eval_set=='test']\n",
    "test = test.drop(['eval_set', 'user_id', 'reordered'], axis=1)\n",
    "\n",
    "print 'ku'"
   ]
  },
  {
   "cell_type": "code",
   "execution_count": null,
   "metadata": {
    "collapsed": true
   },
   "outputs": [],
   "source": []
  }
 ],
 "metadata": {
  "kernelspec": {
   "display_name": "Python 2",
   "language": "python",
   "name": "python2"
  },
  "language_info": {
   "codemirror_mode": {
    "name": "ipython",
    "version": 2
   },
   "file_extension": ".py",
   "mimetype": "text/x-python",
   "name": "python",
   "nbconvert_exporter": "python",
   "pygments_lexer": "ipython2",
   "version": "2.7.12"
  }
 },
 "nbformat": 4,
 "nbformat_minor": 2
}
